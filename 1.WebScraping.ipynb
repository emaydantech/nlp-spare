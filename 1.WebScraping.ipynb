{
 "cells": [
  {
   "cell_type": "code",
   "execution_count": 14,
   "metadata": {},
   "outputs": [],
   "source": [
    "\n",
    "from selenium import webdriver\n",
    "from selenium.webdriver.common.by import By\n",
    "import requests\n",
    "from selenium.webdriver.support.ui import WebDriverWait\n",
    "from selenium.webdriver.support import expected_conditions as EC\n",
    "from selenium.common.exceptions import NoSuchElementException\n",
    "from selenium.common.exceptions import StaleElementReferenceException\n",
    "from selenium.webdriver.common.keys import Keys\n",
    "from bs4 import BeautifulSoup\n",
    "import pandas as pd\n",
    "\n"
   ]
  },
  {
   "cell_type": "markdown",
   "metadata": {},
   "source": [
    "# Web Scraping"
   ]
  },
  {
   "cell_type": "markdown",
   "metadata": {},
   "source": [
    "I will be getting reviews from goodreads.com. Goodreads is a virtual bookshelf, where you can see the books your friends are reading and vice versa. This is a huge online community of book readers.  "
   ]
  },
  {
   "cell_type": "code",
   "execution_count": 16,
   "metadata": {},
   "outputs": [],
   "source": [
    "# initialize webdriver\n",
    "driver = webdriver.Chrome()\n",
    "url = \"https://www.goodreads.com/book/show/62296528/reviews\"\n",
    "driver.get(url)\n",
    "response = requests.get(url)\n",
    "time.sleep(5)\n",
    "show_more_button = driver.find_element(by = By.XPATH, value = '//*[@id=\"__next\"]/div/main/div[1]/div[2]/div[4]/div[4]/div/button')\n",
    "counter=0\n",
    "# click the \"Show more reviews\" button repeatedly until no more reviews are loaded\n",
    "while counter<40:\n",
    "    counter = counter+1\n",
    "    try:\n",
    "        if show_more_button.is_displayed() and show_more_button.is_enabled():\n",
    "            driver.execute_script(\"arguments[0].click();\", show_more_button)\n",
    "            time.sleep(5)\n",
    "        else:\n",
    "            break\n",
    "    except NoSuchElementException:\n",
    "        break\n",
    "    except ElementNotInteractableException:\n",
    "        time.sleep(4)\n",
    "soup = BeautifulSoup(driver.page_source, 'html.parser')\n",
    "reviews = soup.find_all('section', 'ReviewText__content')\n",
    "\n",
    "\n",
    "# find all review blocks\n",
    "review_blocks = soup.find_all('section', {'class': 'ReviewCard__content'})\n",
    "\n",
    "# extract the reviews with ratings\n",
    "reviews_with_ratings = []\n",
    "for block in review_blocks:\n",
    "    rating_span = block.find('span', {'class': 'RatingStars RatingStars__small', 'aria-label': lambda value: value and value.startswith('Rating')})\n",
    "    if rating_span is not None:\n",
    "        rating = rating_span['aria-label']\n",
    "        reviews = block.find('section', {'class': 'ReviewText'}).text\n",
    "        reviews_with_ratings.append({'rating': rating, 'reviews': reviews})\n",
    "\n",
    "# convert the list of tuples to a pandas DataFrame\n",
    "df = pd.DataFrame(reviews_with_ratings, columns=['rating', 'reviews'])"
   ]
  },
  {
   "cell_type": "code",
   "execution_count": 12,
   "metadata": {},
   "outputs": [
    {
     "data": {
      "text/plain": [
       "<bound method DataFrame.info of                  rating                                            reviews\n",
       "0     Rating 1 out of 5  This is the most difficult review I’ve ever wr...\n",
       "1     Rating 5 out of 5  I really enjoyed this on audio!! Over 15 hours...\n",
       "2     Rating 3 out of 5  3.5 ⭐⭐⭐ I listened to Prince Harry reading thi...\n",
       "3     Rating 3 out of 5  My curiosity got the better of me and I read P...\n",
       "4     Rating 3 out of 5  So, I have always “liked” Harry. This memoir m...\n",
       "...                 ...                                                ...\n",
       "1110  Rating 2 out of 5  Rating: 2.5 I’ll admit it. The hype got the be...\n",
       "1111  Rating 4 out of 5  If you go into “Spare” baring negative preconc...\n",
       "1112  Rating 2 out of 5  okay so i don't really give a shit about the r...\n",
       "1113  Rating 4 out of 5  3,5 stjärnor. Är man inte intresserad av kunga...\n",
       "1114  Rating 2 out of 5  The first 60% of this book was a slog to get t...\n",
       "\n",
       "[1115 rows x 2 columns]>"
      ]
     },
     "execution_count": 12,
     "metadata": {},
     "output_type": "execute_result"
    }
   ],
   "source": [
    "df.info"
   ]
  },
  {
   "cell_type": "code",
   "execution_count": 13,
   "metadata": {},
   "outputs": [],
   "source": [
    "df.to_csv('web_content.csv',index=False)"
   ]
  }
 ],
 "metadata": {
  "kernelspec": {
   "display_name": "Python 3",
   "language": "python",
   "name": "python3"
  },
  "language_info": {
   "codemirror_mode": {
    "name": "ipython",
    "version": 3
   },
   "file_extension": ".py",
   "mimetype": "text/x-python",
   "name": "python",
   "nbconvert_exporter": "python",
   "pygments_lexer": "ipython3",
   "version": "3.8.5"
  }
 },
 "nbformat": 4,
 "nbformat_minor": 4
}
