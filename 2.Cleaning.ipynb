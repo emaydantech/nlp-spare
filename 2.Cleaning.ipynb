{
 "cells": [
  {
   "cell_type": "code",
   "execution_count": 1,
   "metadata": {},
   "outputs": [],
   "source": [
    "import pandas as pd\n",
    "import time\n",
    "\n",
    "import re\n",
    "\n",
    "import matplotlib.pyplot as plt\n",
    "plt.style.use('fivethirtyeight')\n",
    "from wordcloud import WordCloud\n",
    "\n",
    "import string\n",
    "from langdetect import detect\n",
    "import numpy as np"
   ]
  },
  {
   "cell_type": "markdown",
   "metadata": {},
   "source": [
    "# 1. Load Data"
   ]
  },
  {
   "cell_type": "code",
   "execution_count": 2,
   "metadata": {},
   "outputs": [],
   "source": [
    "df = pd.read_csv('web_content.csv', index_col=False)"
   ]
  },
  {
   "cell_type": "code",
   "execution_count": 3,
   "metadata": {},
   "outputs": [],
   "source": [
    "#converting columns to strings\n",
    "df['reviews'] = df['reviews'].astype(str)\n",
    "df['rating'] = df['rating'].astype(str)"
   ]
  },
  {
   "cell_type": "code",
   "execution_count": 4,
   "metadata": {},
   "outputs": [],
   "source": [
    "#converting ratings to a number\n",
    "df['rating_value'] = df['rating'].apply(lambda x: int(re.search(r'(\\d+) out of 5', x).group(1)) if re.search(r'(\\d+) out of 5', x) else None)"
   ]
  },
  {
   "cell_type": "code",
   "execution_count": 12,
   "metadata": {},
   "outputs": [
    {
     "data": {
      "text/plain": [
       "(1011, 4)"
      ]
     },
     "execution_count": 12,
     "metadata": {},
     "output_type": "execute_result"
    }
   ],
   "source": [
    "df.shape"
   ]
  },
  {
   "cell_type": "markdown",
   "metadata": {},
   "source": [
    "# 2. Cleaning Text"
   ]
  },
  {
   "cell_type": "markdown",
   "metadata": {},
   "source": [
    "## Cleaning the text of alpha numerics, characters and extra white space"
   ]
  },
  {
   "cell_type": "code",
   "execution_count": 6,
   "metadata": {},
   "outputs": [],
   "source": [
    "# define a function to clean the text\n",
    "def clean_text(text):\n",
    "    # remove HTML tags\n",
    "    text = re.sub('<[^<]+?>', '', text)\n",
    "    \n",
    "    # remove non-alphanumeric characters and extra whitespace\n",
    "    text = re.sub('[^\\w\\s]', '', text).strip()\n",
    "    return text\n",
    "\n",
    "def filter_english_reviews(df):\n",
    "    english_reviews = []\n",
    "    for index, row in df.iterrows():\n",
    "        try:\n",
    "            lang = detect(row['reviews'])\n",
    "            if lang == 'en':\n",
    "                english_reviews.append(row)\n",
    "        except:\n",
    "            continue\n",
    "    return pd.DataFrame(english_reviews)\n"
   ]
  },
  {
   "cell_type": "code",
   "execution_count": 7,
   "metadata": {},
   "outputs": [],
   "source": [
    "\n",
    "# apply the clean_text function to the reviews column\n",
    "df['clean_reviews'] = df['reviews'].apply(clean_text)"
   ]
  },
  {
   "cell_type": "code",
   "execution_count": 8,
   "metadata": {},
   "outputs": [
    {
     "data": {
      "text/plain": [
       "0       This is the most difficult review Ive ever wri...\n",
       "1       I really enjoyed this on audio Over 15 hours i...\n",
       "2       35  I listened to Prince Harry reading this on...\n",
       "3       My curiosity got the better of me and I read P...\n",
       "4       So I have always liked Harry This memoir made ...\n",
       "                              ...                        \n",
       "1110    Rating 25 Ill admit it The hype got the best o...\n",
       "1111    If you go into Spare baring negative preconcei...\n",
       "1112    okay so i dont really give a shit about the ro...\n",
       "1113    35 stjärnor Är man inte intresserad av kungafa...\n",
       "1114    The first 60 of this book was a slog to get th...\n",
       "Name: clean_reviews, Length: 1115, dtype: object"
      ]
     },
     "execution_count": 8,
     "metadata": {},
     "output_type": "execute_result"
    }
   ],
   "source": [
    "df['clean_reviews']"
   ]
  },
  {
   "cell_type": "code",
   "execution_count": 9,
   "metadata": {},
   "outputs": [],
   "source": [
    "\n",
    "\n",
    "# filter out non-English reviews\n",
    "df = filter_english_reviews(df)"
   ]
  },
  {
   "cell_type": "code",
   "execution_count": 10,
   "metadata": {},
   "outputs": [
    {
     "name": "stdout",
     "output_type": "stream",
     "text": [
      "                 rating                                            reviews  \\\n",
      "0     Rating 1 out of 5  This is the most difficult review I’ve ever wr...   \n",
      "1     Rating 5 out of 5  I really enjoyed this on audio!! Over 15 hours...   \n",
      "2     Rating 3 out of 5  3.5 ⭐⭐⭐ I listened to Prince Harry reading thi...   \n",
      "3     Rating 3 out of 5  My curiosity got the better of me and I read P...   \n",
      "4     Rating 3 out of 5  So, I have always “liked” Harry. This memoir m...   \n",
      "...                 ...                                                ...   \n",
      "1109  Rating 3 out of 5  I have many conflicting feelings about this bo...   \n",
      "1110  Rating 2 out of 5  Rating: 2.5 I’ll admit it. The hype got the be...   \n",
      "1111  Rating 4 out of 5  If you go into “Spare” baring negative preconc...   \n",
      "1112  Rating 2 out of 5  okay so i don't really give a shit about the r...   \n",
      "1114  Rating 2 out of 5  The first 60% of this book was a slog to get t...   \n",
      "\n",
      "      rating_value                                      clean_reviews  \n",
      "0                1  This is the most difficult review Ive ever wri...  \n",
      "1                5  I really enjoyed this on audio Over 15 hours i...  \n",
      "2                3  35  I listened to Prince Harry reading this on...  \n",
      "3                3  My curiosity got the better of me and I read P...  \n",
      "4                3  So I have always liked Harry This memoir made ...  \n",
      "...            ...                                                ...  \n",
      "1109             3  I have many conflicting feelings about this bo...  \n",
      "1110             2  Rating 25 Ill admit it The hype got the best o...  \n",
      "1111             4  If you go into Spare baring negative preconcei...  \n",
      "1112             2  okay so i dont really give a shit about the ro...  \n",
      "1114             2  The first 60 of this book was a slog to get th...  \n",
      "\n",
      "[1011 rows x 4 columns]\n"
     ]
    }
   ],
   "source": [
    "print(df)"
   ]
  },
  {
   "cell_type": "code",
   "execution_count": 11,
   "metadata": {},
   "outputs": [],
   "source": [
    "df.to_csv('cleaned_reviews.csv', index=False)"
   ]
  },
  {
   "cell_type": "code",
   "execution_count": 13,
   "metadata": {},
   "outputs": [
    {
     "data": {
      "text/html": [
       "<div>\n",
       "<style scoped>\n",
       "    .dataframe tbody tr th:only-of-type {\n",
       "        vertical-align: middle;\n",
       "    }\n",
       "\n",
       "    .dataframe tbody tr th {\n",
       "        vertical-align: top;\n",
       "    }\n",
       "\n",
       "    .dataframe thead th {\n",
       "        text-align: right;\n",
       "    }\n",
       "</style>\n",
       "<table border=\"1\" class=\"dataframe\">\n",
       "  <thead>\n",
       "    <tr style=\"text-align: right;\">\n",
       "      <th></th>\n",
       "      <th>rating</th>\n",
       "      <th>reviews</th>\n",
       "      <th>rating_value</th>\n",
       "      <th>clean_reviews</th>\n",
       "    </tr>\n",
       "  </thead>\n",
       "  <tbody>\n",
       "    <tr>\n",
       "      <th>0</th>\n",
       "      <td>Rating 1 out of 5</td>\n",
       "      <td>This is the most difficult review I’ve ever wr...</td>\n",
       "      <td>1</td>\n",
       "      <td>This is the most difficult review Ive ever wri...</td>\n",
       "    </tr>\n",
       "    <tr>\n",
       "      <th>1</th>\n",
       "      <td>Rating 5 out of 5</td>\n",
       "      <td>I really enjoyed this on audio!! Over 15 hours...</td>\n",
       "      <td>5</td>\n",
       "      <td>I really enjoyed this on audio Over 15 hours i...</td>\n",
       "    </tr>\n",
       "    <tr>\n",
       "      <th>2</th>\n",
       "      <td>Rating 3 out of 5</td>\n",
       "      <td>3.5 ⭐⭐⭐ I listened to Prince Harry reading thi...</td>\n",
       "      <td>3</td>\n",
       "      <td>35  I listened to Prince Harry reading this on...</td>\n",
       "    </tr>\n",
       "    <tr>\n",
       "      <th>3</th>\n",
       "      <td>Rating 3 out of 5</td>\n",
       "      <td>My curiosity got the better of me and I read P...</td>\n",
       "      <td>3</td>\n",
       "      <td>My curiosity got the better of me and I read P...</td>\n",
       "    </tr>\n",
       "    <tr>\n",
       "      <th>4</th>\n",
       "      <td>Rating 3 out of 5</td>\n",
       "      <td>So, I have always “liked” Harry. This memoir m...</td>\n",
       "      <td>3</td>\n",
       "      <td>So I have always liked Harry This memoir made ...</td>\n",
       "    </tr>\n",
       "  </tbody>\n",
       "</table>\n",
       "</div>"
      ],
      "text/plain": [
       "              rating                                            reviews  \\\n",
       "0  Rating 1 out of 5  This is the most difficult review I’ve ever wr...   \n",
       "1  Rating 5 out of 5  I really enjoyed this on audio!! Over 15 hours...   \n",
       "2  Rating 3 out of 5  3.5 ⭐⭐⭐ I listened to Prince Harry reading thi...   \n",
       "3  Rating 3 out of 5  My curiosity got the better of me and I read P...   \n",
       "4  Rating 3 out of 5  So, I have always “liked” Harry. This memoir m...   \n",
       "\n",
       "   rating_value                                      clean_reviews  \n",
       "0             1  This is the most difficult review Ive ever wri...  \n",
       "1             5  I really enjoyed this on audio Over 15 hours i...  \n",
       "2             3  35  I listened to Prince Harry reading this on...  \n",
       "3             3  My curiosity got the better of me and I read P...  \n",
       "4             3  So I have always liked Harry This memoir made ...  "
      ]
     },
     "execution_count": 13,
     "metadata": {},
     "output_type": "execute_result"
    }
   ],
   "source": [
    "df.head()"
   ]
  },
  {
   "cell_type": "code",
   "execution_count": null,
   "metadata": {},
   "outputs": [],
   "source": []
  }
 ],
 "metadata": {
  "kernelspec": {
   "display_name": "Python 3",
   "language": "python",
   "name": "python3"
  },
  "language_info": {
   "codemirror_mode": {
    "name": "ipython",
    "version": 3
   },
   "file_extension": ".py",
   "mimetype": "text/x-python",
   "name": "python",
   "nbconvert_exporter": "python",
   "pygments_lexer": "ipython3",
   "version": "3.8.5"
  }
 },
 "nbformat": 4,
 "nbformat_minor": 4
}
